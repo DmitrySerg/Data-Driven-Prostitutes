{
 "cells": [
  {
   "cell_type": "code",
   "execution_count": 7,
   "metadata": {},
   "outputs": [],
   "source": [
    "import requests      \n",
    "import numpy as np   \n",
    "import pandas as pd  \n",
    "import time          \n",
    "\n",
    "from bs4 import BeautifulSoup\n",
    "import re"
   ]
  },
  {
   "cell_type": "code",
   "execution_count": 8,
   "metadata": {},
   "outputs": [
    {
     "data": {
      "text/plain": [
       "'Mozilla/5.0 (Windows NT 6.2; Win64; x64) AppleWebKit/537.36 (KHTML, like Gecko) Chrome/32.0.1667.0 Safari/537.36'"
      ]
     },
     "execution_count": 8,
     "metadata": {},
     "output_type": "execute_result"
    }
   ],
   "source": [
    "from fake_useragent import UserAgent\n",
    "UserAgent().chrome"
   ]
  },
  {
   "cell_type": "code",
   "execution_count": 9,
   "metadata": {},
   "outputs": [],
   "source": [
    "# !/usr/local/anaconda3/bin/pip install fake_useragent"
   ]
  },
  {
   "cell_type": "code",
   "execution_count": 10,
   "metadata": {},
   "outputs": [],
   "source": [
    "import socks\n",
    "import socket\n",
    "socks.set_default_proxy(socks.SOCKS5, \"localhost\", 9150)\n",
    "socket.socket = socks.socksocket"
   ]
  },
  {
   "cell_type": "code",
   "execution_count": 11,
   "metadata": {},
   "outputs": [
    {
     "name": "stdout",
     "output_type": "stream",
     "text": [
      "Current IP Address: 185.220.101.70\n"
     ]
    }
   ],
   "source": [
    "def checkIP():\n",
    "    ip = requests.get('http://checkip.dyndns.org').content\n",
    "    soup = BeautifulSoup(ip, 'html.parser')\n",
    "    print(soup.find('body').text)\n",
    "\n",
    "checkIP()"
   ]
  },
  {
   "cell_type": "code",
   "execution_count": 14,
   "metadata": {},
   "outputs": [],
   "source": [
    "MAIN_LINK = \"http://k.intimcity.nl/persons.php?index={}\""
   ]
  },
  {
   "cell_type": "code",
   "execution_count": 15,
   "metadata": {},
   "outputs": [],
   "source": [
    "page_link = \"http://k.intimcity.nl/persons.php?id=352916\"\n",
    "\n",
    "PERSON_LINK = \"http://k.intimcity.nl/persons.php?id={}\""
   ]
  },
  {
   "cell_type": "code",
   "execution_count": 9,
   "metadata": {},
   "outputs": [
    {
     "data": {
      "text/plain": [
       "'http://k.intimcity.nl/persons.php?index=1'"
      ]
     },
     "execution_count": 9,
     "metadata": {},
     "output_type": "execute_result"
    }
   ],
   "source": [
    "main_link.format(1)"
   ]
  },
  {
   "cell_type": "code",
   "execution_count": 16,
   "metadata": {},
   "outputs": [],
   "source": [
    "def get_soup(link):\n",
    "    headers = {'User-Agent': UserAgent().chrome}\n",
    "    response = requests.get(link, headers=headers)\n",
    "    soup = BeautifulSoup(response.content, 'html.parser')\n",
    "    return soup"
   ]
  },
  {
   "cell_type": "code",
   "execution_count": 17,
   "metadata": {},
   "outputs": [],
   "source": [
    "def get_main_page(page_number, main_link=MAIN_LINK):\n",
    "    main_page = get_soup(main_link.format(page_number))\n",
    "    return main_page"
   ]
  },
  {
   "cell_type": "code",
   "execution_count": 18,
   "metadata": {},
   "outputs": [],
   "source": [
    "def get_max_main_page(main_page):\n",
    "    table = main_page.find('table', attrs={'style':'margin: auto; border-spacing: 3px;'})\n",
    "    max_page = int(table.findAll('a', attrs={'class':'index'})[-2].text)\n",
    "    return max_page"
   ]
  },
  {
   "cell_type": "code",
   "execution_count": 21,
   "metadata": {},
   "outputs": [],
   "source": [
    "def get_persons_links(current_main_page, person_link=PERSON_LINK):\n",
    "    persons_links = []\n",
    "    page_ids = current_main_page.findAll('a', attrs={'class':'x'})\n",
    "    for page_id in page_ids:\n",
    "        page_id = re.findall(r'\\d+', page_id.get('onclick'))[0]\n",
    "        link = person_link.format(page_id)\n",
    "        persons_links.append(link)\n",
    "    return persons_links"
   ]
  },
  {
   "cell_type": "code",
   "execution_count": 22,
   "metadata": {},
   "outputs": [],
   "source": [
    "current_main_page = get_main_page(1)\n",
    "current_persons_links = get_persons_links(current_main_page)"
   ]
  },
  {
   "cell_type": "code",
   "execution_count": 23,
   "metadata": {
    "scrolled": false
   },
   "outputs": [
    {
     "data": {
      "text/plain": [
       "50"
      ]
     },
     "execution_count": 23,
     "metadata": {},
     "output_type": "execute_result"
    }
   ],
   "source": [
    "len(current_persons_links)"
   ]
  },
  {
   "cell_type": "code",
   "execution_count": 24,
   "metadata": {},
   "outputs": [
    {
     "data": {
      "text/plain": [
       "50"
      ]
     },
     "execution_count": 24,
     "metadata": {},
     "output_type": "execute_result"
    }
   ],
   "source": [
    "len(set(current_persons_links))"
   ]
  },
  {
   "cell_type": "code",
   "execution_count": 355,
   "metadata": {
    "code_folding": [
     0
    ]
   },
   "outputs": [],
   "source": [
    "def get_name(current_person_page):\n",
    "    return {'name':current_person_page.find('h2').text}"
   ]
  },
  {
   "cell_type": "code",
   "execution_count": 424,
   "metadata": {
    "code_folding": []
   },
   "outputs": [],
   "source": [
    "def get_text_description(current_person_page):\n",
    "    \"\"\"Description written by seller\"\"\"\n",
    "    description = current_person_page.find('td', attrs={'class':'ar13'})\n",
    "    description = description.text if description else None\n",
    "    return {'text_description': description}"
   ]
  },
  {
   "cell_type": "code",
   "execution_count": 331,
   "metadata": {
    "code_folding": [
     0
    ]
   },
   "outputs": [],
   "source": [
    "def get_parameter_table(current_person_page):\n",
    "    \"\"\"All parameters (weight, height, address, etc.)\"\"\"\n",
    "    parameter_table = current_person_page.find(\"table\", attrs={'style':'width: 100%; border-spacing: 1px;'})\n",
    "    parameter_table = pd.read_html(str(parameter_table))[0]\n",
    "    parameter_table = parameter_table.set_index(0)\n",
    "    parameter_table = parameter_table.to_dict()[1]\n",
    "    return parameter_table"
   ]
  },
  {
   "cell_type": "code",
   "execution_count": 152,
   "metadata": {
    "code_folding": [
     0,
     2,
     16,
     26,
     34
    ]
   },
   "outputs": [],
   "source": [
    "def get_prices_dict(current_person_page, flatten=True):\n",
    "    \"\"\"All prices (per hour, day/night, etc.)\"\"\"\n",
    "    def _flatten_prices_dict(prices_dict):\n",
    "        flattened_prices = {}\n",
    "        for k, v in prices_dict.items():\n",
    "            if isinstance(v, dict):\n",
    "                for nested_k, nested_v in v.items():\n",
    "                    if isinstance(nested_v, dict):\n",
    "                        for nested_2_k, nested_2_v in nested_v.items():\n",
    "                            flattened_prices[\"_\".join([k, nested_k, nested_2_k])] = nested_2_v\n",
    "                    else:\n",
    "                        flattened_prices[\"_\".join([k, nested_k])] = nested_v\n",
    "            else:\n",
    "                flattened_prices[k] = v\n",
    "        return flattened_prices\n",
    "    \n",
    "    def _clean_number(df, row_index, col_index):\n",
    "        try:\n",
    "            string = df.iloc[row_index, col_index]\n",
    "        except:\n",
    "            return None\n",
    "        try:\n",
    "            return float(\"\".join(re.findall(r'\\d+', string)))\n",
    "        except:\n",
    "            return string\n",
    "           \n",
    "    prices = current_person_page.find(\n",
    "        'table', \n",
    "        attrs={\n",
    "            'style':'width: 440px; margin: 10px auto; background-color: #CCC; text-align: center; border-spacing: 1px;'\n",
    "        }\n",
    "    )\n",
    "    prices = pd.read_html(str(prices))[0]\n",
    "        \n",
    "    prices_dict = {\n",
    "        \"апартаменты\":{\n",
    "            \"днём\": {\n",
    "                \"час\": _clean_number(prices, 2, 1),\n",
    "                \"2часа\": _clean_number(prices, 2, 2)\n",
    "            },\n",
    "            \"ночью\": {\n",
    "                \"час\": _clean_number(prices, 2, 3),\n",
    "                \"2часа\": _clean_number(prices, 2, 4)\n",
    "            }\n",
    "        },\n",
    "        \"выезд\":{\n",
    "            \"днём\": {\n",
    "                \"час\": _clean_number(prices, 3, 1),\n",
    "                \"2часа\": _clean_number(prices, 3, 2)\n",
    "            },\n",
    "            \"ночью\": {\n",
    "                \"час\": _clean_number(prices, 3, 3),\n",
    "                \"2часа\": _clean_number(prices, 3, 4)\n",
    "            }\n",
    "        },\n",
    "        \"контактов_в_час\": _clean_number(prices, 4, 1),\n",
    "        \"анал\": _clean_number(prices, 4, 4),\n",
    "        \"мбр\": _clean_number(prices, 5, 4),\n",
    "        \"comments\": _clean_number(prices, 6, 0)\n",
    "    }\n",
    "    \n",
    "    if flatten:\n",
    "        prices_dict = _flatten_prices_dict(prices_dict)\n",
    "        \n",
    "    return prices_dict"
   ]
  },
  {
   "cell_type": "code",
   "execution_count": 420,
   "metadata": {
    "code_folding": []
   },
   "outputs": [],
   "source": [
    "def get_services_dict(current_person_page):\n",
    "    \"\"\"Full list with services\"\"\"\n",
    "    \n",
    "    services = current_person_page.find(\"table\", attrs={'style':'width: 100%; border-spacing: 5px;'})\n",
    "    # boolean mask for cheked boxes\n",
    "    services_bool = services.findAll('input', attrs={'type':'checkbox'})[:49]\n",
    "    services_bool = [True if 'checked' in str(x) else False for x in services_bool]\n",
    "\n",
    "    services_names = services.findAll('a')\n",
    "    services_names = np.array([name.text for name in services_names])\n",
    "\n",
    "    services_names = list(services_names[services_bool])\n",
    "    return {'services':services_names, 'number_of_services':len(services_names)}"
   ]
  },
  {
   "cell_type": "code",
   "execution_count": 398,
   "metadata": {
    "code_folding": [
     0
    ]
   },
   "outputs": [],
   "source": [
    "def get_photo_links(current_person_page):\n",
    "    \"\"\"Links to photos\"\"\"\n",
    "    photo_links = current_person_page.find(\"div\", attrs={'class':'highslide-gallery'})\n",
    "    photo_links = photo_links.findAll('a')\n",
    "    photo_links = [link.get(\"href\") for link in photo_links]\n",
    "    return {'photo_links':photo_links}"
   ]
  },
  {
   "cell_type": "code",
   "execution_count": 415,
   "metadata": {
    "code_folding": [
     0
    ]
   },
   "outputs": [],
   "source": [
    "def get_checks_reviews(current_person_page):\n",
    "    \"\"\"Comments and reviews\"\"\"\n",
    "    comments = current_person_page.find('div', attrs={'class':'noprint'}) \n",
    "    \n",
    "    number_of_checks = comments.find('table', attrs={'style':'margin: auto;'})\n",
    "    number_of_checks = len(number_of_checks.findAll('div', attrs={'class':'rnd5'})) if number_of_checks else 0\n",
    "    # reviews from users\n",
    "    reviews = comments.find('table', attrs={'style':'width: 440px; margin: 10px auto 0 auto;'})    \n",
    "    reviews = reviews.findAll('div', attrs={'class':'rnd5'}) if reviews else []\n",
    "\n",
    "    clean_reviews = []\n",
    "    for review in reviews:\n",
    "        span_tag = review.find('span')\n",
    "        review_text = span_tag.next_sibling if span_tag else None\n",
    "        try:\n",
    "            clean_text = review_text.text\n",
    "        except:\n",
    "            clean_text = review_text\n",
    "        if clean_text:\n",
    "            clean_reviews.append(clean_text)\n",
    "        \n",
    "    number_of_reviews = len(clean_reviews)\n",
    "    \n",
    "    result = {\n",
    "        'number_of_checks':number_of_checks,\n",
    "        'number_of_reviews':number_of_reviews,\n",
    "        'reviews_text':clean_reviews\n",
    "    }\n",
    "    return result"
   ]
  },
  {
   "cell_type": "code",
   "execution_count": 425,
   "metadata": {},
   "outputs": [],
   "source": [
    "full_person_data = {}\n",
    "\n",
    "name = get_name(current_person_page)\n",
    "parameter_table = get_parameter_table(current_person_page)\n",
    "text_description = get_text_description(current_person_page)\n",
    "prices = get_prices_dict(current_person_page)\n",
    "services = get_services_dict(current_person_page)\n",
    "photo_links = get_photo_links(current_person_page)\n",
    "checks_reviews = get_checks_reviews(current_person_page)"
   ]
  },
  {
   "cell_type": "code",
   "execution_count": 403,
   "metadata": {},
   "outputs": [],
   "source": [
    "def get_full_person_data(current_person_page):\n",
    "    full_person_data = {}\n",
    "    full_person_data.update(get_name(current_person_page))\n",
    "    full_person_data.update(get_parameter_table(current_person_page))\n",
    "    full_person_data.update(get_text_description(current_person_page))\n",
    "    full_person_data.update(get_prices_dict(current_person_page))\n",
    "    full_person_data.update(get_services_dict(current_person_page))\n",
    "    full_person_data.update(get_photo_links(current_person_page))\n",
    "    full_person_data.update(get_checks_reviews(current_person_page))\n",
    "    return full_person_data"
   ]
  },
  {
   "cell_type": "code",
   "execution_count": 431,
   "metadata": {},
   "outputs": [],
   "source": [
    "from tqdm import tqdm_notebook\n",
    "import time"
   ]
  },
  {
   "cell_type": "code",
   "execution_count": 430,
   "metadata": {},
   "outputs": [
    {
     "data": {
      "text/plain": [
       "'http://k.intimcity.nl/persons.php?id=353687'"
      ]
     },
     "execution_count": 430,
     "metadata": {},
     "output_type": "execute_result"
    }
   ],
   "source": [
    "person_link"
   ]
  },
  {
   "cell_type": "code",
   "execution_count": 432,
   "metadata": {},
   "outputs": [
    {
     "data": {
      "application/vnd.jupyter.widget-view+json": {
       "model_id": "fb5c872b7cae41ce8089a5e531c3b0c7",
       "version_major": 2,
       "version_minor": 0
      },
      "text/plain": [
       "HBox(children=(IntProgress(value=1, bar_style='info', max=1), HTML(value='')))"
      ]
     },
     "metadata": {},
     "output_type": "display_data"
    },
    {
     "name": "stdout",
     "output_type": "stream",
     "text": [
      "Current IP Address: 91.219.237.244\n",
      "Current IP Address: 91.219.237.244\n",
      "Current IP Address: 91.219.237.244\n",
      "Current IP Address: 91.219.237.244\n",
      "Current IP Address: 162.247.74.200\n",
      "Current IP Address: 162.247.74.200\n",
      "Current IP Address: 162.247.74.200\n",
      "Current IP Address: 162.247.74.200\n",
      "Current IP Address: 51.15.167.49\n",
      "Current IP Address: 51.15.167.49\n",
      "Current IP Address: 51.15.167.49\n",
      "Current IP Address: 185.220.101.1\n",
      "Current IP Address: 185.220.101.1\n",
      "Current IP Address: 185.220.101.1\n",
      "Current IP Address: 185.220.101.1\n",
      "Current IP Address: 185.220.101.1\n",
      "Current IP Address: 192.160.102.168\n",
      "Current IP Address: 192.160.102.168\n",
      "Current IP Address: 192.160.102.168\n",
      "Current IP Address: 162.247.74.213\n",
      "Current IP Address: 109.72.83.220\n",
      "Current IP Address: 109.72.83.220\n",
      "Current IP Address: 109.72.83.220\n",
      "Current IP Address: 109.72.83.220\n",
      "Current IP Address: 141.255.162.34\n",
      "Current IP Address: 141.255.162.34\n",
      "Current IP Address: 141.255.162.34\n",
      "Current IP Address: 141.255.162.34\n",
      "Current IP Address: 171.25.193.234\n",
      "Current IP Address: 171.25.193.234\n",
      "Current IP Address: 171.25.193.234\n",
      "Current IP Address: 171.25.193.234\n",
      "Current IP Address: 171.25.193.234\n",
      "Current IP Address: 104.244.73.126\n",
      "Current IP Address: 104.244.73.126\n",
      "Current IP Address: 104.244.73.126\n",
      "Current IP Address: 104.244.73.126\n",
      "Current IP Address: 176.10.99.200\n",
      "Current IP Address: 176.10.99.200\n",
      "Current IP Address: 176.10.99.200\n",
      "Current IP Address: 62.102.148.68\n",
      "Current IP Address: 62.102.148.68\n",
      "Current IP Address: 62.102.148.68\n",
      "Current IP Address: 62.102.148.68\n",
      "Current IP Address: 62.102.148.68\n",
      "Current IP Address: 185.195.237.25\n",
      "Current IP Address: 185.195.237.25\n",
      "Current IP Address: 185.195.237.25\n",
      "Current IP Address: 87.120.254.98\n",
      "Current IP Address: 87.120.254.98\n"
     ]
    }
   ],
   "source": [
    "full_data = {}\n",
    "\n",
    "for i, person_link in tqdm_notebook(enumerate(current_persons_links)):\n",
    "    current_person_page = get_soup(person_link)\n",
    "    full_person_data = get_full_person_data(current_person_page)\n",
    "    full_data[i] = full_person_data\n",
    "    checkIP()\n",
    "    time.sleep(1)"
   ]
  },
  {
   "cell_type": "code",
   "execution_count": 439,
   "metadata": {},
   "outputs": [
    {
     "data": {
      "text/html": [
       "<div>\n",
       "<style scoped>\n",
       "    .dataframe tbody tr th:only-of-type {\n",
       "        vertical-align: middle;\n",
       "    }\n",
       "\n",
       "    .dataframe tbody tr th {\n",
       "        vertical-align: top;\n",
       "    }\n",
       "\n",
       "    .dataframe thead th {\n",
       "        text-align: right;\n",
       "    }\n",
       "</style>\n",
       "<table border=\"1\" class=\"dataframe\">\n",
       "  <thead>\n",
       "    <tr style=\"text-align: right;\">\n",
       "      <th></th>\n",
       "      <th>comments</th>\n",
       "      <th>name</th>\n",
       "      <th>number_of_checks</th>\n",
       "      <th>number_of_reviews</th>\n",
       "      <th>number_of_services</th>\n",
       "      <th>photo_links</th>\n",
       "      <th>reviews_text</th>\n",
       "      <th>services</th>\n",
       "      <th>text_description</th>\n",
       "      <th>Вес</th>\n",
       "      <th>...</th>\n",
       "      <th>выезд_ночью_2часа</th>\n",
       "      <th>выезд_ночью_час</th>\n",
       "      <th>контактов_в_час</th>\n",
       "      <th>мбр</th>\n",
       "      <th>nan</th>\n",
       "      <th>Адрес</th>\n",
       "      <th>Рейтинг</th>\n",
       "      <th>Не старше</th>\n",
       "      <th>E-mail</th>\n",
       "      <th>Девушка месяца - АПРЕЛЬ 2016</th>\n",
       "    </tr>\n",
       "  </thead>\n",
       "  <tbody>\n",
       "    <tr>\n",
       "      <th>0</th>\n",
       "      <td>Дополнительные услуги обсуждаю при личной встр...</td>\n",
       "      <td>Дарья</td>\n",
       "      <td>1</td>\n",
       "      <td>5</td>\n",
       "      <td>12</td>\n",
       "      <td>[https://intimka.nl/Persons_big/374085/5291699...</td>\n",
       "      <td>[Шикарная девушка., 😘, Девочка виденье! Просто...</td>\n",
       "      <td>[Секс классический, Минет в презервативе, Мине...</td>\n",
       "      <td>ИНДИВИДУАЛЬНО!Реальная - в точности как на фот...</td>\n",
       "      <td>60</td>\n",
       "      <td>...</td>\n",
       "      <td>Выезда нет</td>\n",
       "      <td>Выезда нет</td>\n",
       "      <td>2</td>\n",
       "      <td>2000</td>\n",
       "      <td>NaN</td>\n",
       "      <td>NaN</td>\n",
       "      <td>NaN</td>\n",
       "      <td>NaN</td>\n",
       "      <td>NaN</td>\n",
       "      <td>NaN</td>\n",
       "    </tr>\n",
       "    <tr>\n",
       "      <th>1</th>\n",
       "      <td>2</td>\n",
       "      <td>Самая натуральная!</td>\n",
       "      <td>33</td>\n",
       "      <td>43</td>\n",
       "      <td>40</td>\n",
       "      <td>[https://intimka.nl/Persons_big/284133/8951558...</td>\n",
       "      <td>[Уверен её там нет, Восхитительная женщина. Хо...</td>\n",
       "      <td>[Секс классический, Секс анальный, Секс группо...</td>\n",
       "      <td>Я Богиня секса, девушка по имени Луна!\\r\\nЗага...</td>\n",
       "      <td>56</td>\n",
       "      <td>...</td>\n",
       "      <td>30000</td>\n",
       "      <td>-</td>\n",
       "      <td>*Выезд только в квартиры, гостиницы</td>\n",
       "      <td>2000</td>\n",
       "      <td>NaN</td>\n",
       "      <td>NaN</td>\n",
       "      <td>NaN</td>\n",
       "      <td>NaN</td>\n",
       "      <td>NaN</td>\n",
       "      <td>NaN</td>\n",
       "    </tr>\n",
       "  </tbody>\n",
       "</table>\n",
       "<p>2 rows × 41 columns</p>\n",
       "</div>"
      ],
      "text/plain": [
       "                                            comments                name  \\\n",
       "0  Дополнительные услуги обсуждаю при личной встр...               Дарья   \n",
       "1                                                  2  Самая натуральная!   \n",
       "\n",
       "  number_of_checks number_of_reviews number_of_services  \\\n",
       "0                1                 5                 12   \n",
       "1               33                43                 40   \n",
       "\n",
       "                                         photo_links  \\\n",
       "0  [https://intimka.nl/Persons_big/374085/5291699...   \n",
       "1  [https://intimka.nl/Persons_big/284133/8951558...   \n",
       "\n",
       "                                        reviews_text  \\\n",
       "0  [Шикарная девушка., 😘, Девочка виденье! Просто...   \n",
       "1  [Уверен её там нет, Восхитительная женщина. Хо...   \n",
       "\n",
       "                                            services  \\\n",
       "0  [Секс классический, Минет в презервативе, Мине...   \n",
       "1  [Секс классический, Секс анальный, Секс группо...   \n",
       "\n",
       "                                    text_description Вес  ...  \\\n",
       "0  ИНДИВИДУАЛЬНО!Реальная - в точности как на фот...  60  ...   \n",
       "1  Я Богиня секса, девушка по имени Луна!\\r\\nЗага...  56  ...   \n",
       "\n",
       "  выезд_ночью_2часа выезд_ночью_час                      контактов_в_час  \\\n",
       "0        Выезда нет      Выезда нет                                    2   \n",
       "1             30000               -  *Выезд только в квартиры, гостиницы   \n",
       "\n",
       "    мбр  NaN Адрес Рейтинг Не старше E-mail Девушка месяца - АПРЕЛЬ 2016  \n",
       "0  2000  NaN   NaN     NaN       NaN    NaN                          NaN  \n",
       "1  2000  NaN   NaN     NaN       NaN    NaN                          NaN  \n",
       "\n",
       "[2 rows x 41 columns]"
      ]
     },
     "execution_count": 439,
     "metadata": {},
     "output_type": "execute_result"
    }
   ],
   "source": [
    "pd.DataFrame(full_data).T.head(2)"
   ]
  }
 ],
 "metadata": {
  "kernelspec": {
   "display_name": "Python 3",
   "language": "python",
   "name": "python3"
  },
  "language_info": {
   "codemirror_mode": {
    "name": "ipython",
    "version": 3
   },
   "file_extension": ".py",
   "mimetype": "text/x-python",
   "name": "python",
   "nbconvert_exporter": "python",
   "pygments_lexer": "ipython3",
   "version": "3.7.3"
  },
  "varInspector": {
   "cols": {
    "lenName": 16,
    "lenType": 16,
    "lenVar": 40
   },
   "kernels_config": {
    "python": {
     "delete_cmd_postfix": "",
     "delete_cmd_prefix": "del ",
     "library": "var_list.py",
     "varRefreshCmd": "print(var_dic_list())"
    },
    "r": {
     "delete_cmd_postfix": ") ",
     "delete_cmd_prefix": "rm(",
     "library": "var_list.r",
     "varRefreshCmd": "cat(var_dic_list()) "
    }
   },
   "types_to_exclude": [
    "module",
    "function",
    "builtin_function_or_method",
    "instance",
    "_Feature"
   ],
   "window_display": false
  }
 },
 "nbformat": 4,
 "nbformat_minor": 2
}
