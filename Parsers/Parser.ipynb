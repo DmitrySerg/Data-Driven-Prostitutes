{
 "cells": [
  {
   "cell_type": "code",
   "execution_count": 7,
   "metadata": {},
   "outputs": [],
   "source": [
    "import requests      \n",
    "import numpy as np   \n",
    "import pandas as pd  \n",
    "import time          \n",
    "\n",
    "from bs4 import BeautifulSoup\n",
    "import re"
   ]
  },
  {
   "cell_type": "code",
   "execution_count": 8,
   "metadata": {},
   "outputs": [
    {
     "data": {
      "text/plain": [
       "'Mozilla/5.0 (Windows NT 6.2; Win64; x64) AppleWebKit/537.36 (KHTML, like Gecko) Chrome/32.0.1667.0 Safari/537.36'"
      ]
     },
     "execution_count": 8,
     "metadata": {},
     "output_type": "execute_result"
    }
   ],
   "source": [
    "from fake_useragent import UserAgent\n",
    "UserAgent().chrome"
   ]
  },
  {
   "cell_type": "code",
   "execution_count": 9,
   "metadata": {},
   "outputs": [],
   "source": [
    "# !/usr/local/anaconda3/bin/pip install fake_useragent"
   ]
  },
  {
   "cell_type": "code",
   "execution_count": 10,
   "metadata": {},
   "outputs": [],
   "source": [
    "import socks\n",
    "import socket\n",
    "socks.set_default_proxy(socks.SOCKS5, \"localhost\", 9150)\n",
    "socket.socket = socks.socksocket"
   ]
  },
  {
   "cell_type": "code",
   "execution_count": 11,
   "metadata": {},
   "outputs": [
    {
     "name": "stdout",
     "output_type": "stream",
     "text": [
      "Current IP Address: 185.220.101.70\n"
     ]
    }
   ],
   "source": [
    "def checkIP():\n",
    "    ip = requests.get('http://checkip.dyndns.org').content\n",
    "    soup = BeautifulSoup(ip, 'html.parser')\n",
    "    print(soup.find('body').text)\n",
    "\n",
    "checkIP()"
   ]
  },
  {
   "cell_type": "code",
   "execution_count": 14,
   "metadata": {},
   "outputs": [],
   "source": [
    "MAIN_LINK = \"http://k.intimcity.nl/persons.php?index={}\""
   ]
  },
  {
   "cell_type": "code",
   "execution_count": 15,
   "metadata": {},
   "outputs": [],
   "source": [
    "page_link = \"http://k.intimcity.nl/persons.php?id=352916\"\n",
    "\n",
    "PERSON_LINK = \"http://k.intimcity.nl/persons.php?id={}\""
   ]
  },
  {
   "cell_type": "code",
   "execution_count": 9,
   "metadata": {},
   "outputs": [
    {
     "data": {
      "text/plain": [
       "'http://k.intimcity.nl/persons.php?index=1'"
      ]
     },
     "execution_count": 9,
     "metadata": {},
     "output_type": "execute_result"
    }
   ],
   "source": [
    "main_link.format(1)"
   ]
  },
  {
   "cell_type": "code",
   "execution_count": 16,
   "metadata": {},
   "outputs": [],
   "source": [
    "def get_soup(link):\n",
    "    headers = {'User-Agent': UserAgent().chrome}\n",
    "    response = requests.get(link, headers=headers)\n",
    "    soup = BeautifulSoup(response.content, 'html.parser')\n",
    "    return soup"
   ]
  },
  {
   "cell_type": "code",
   "execution_count": 17,
   "metadata": {},
   "outputs": [],
   "source": [
    "def get_main_page(page_number, main_link=MAIN_LINK):\n",
    "    main_page = get_soup(main_link.format(page_number))\n",
    "    return main_page"
   ]
  },
  {
   "cell_type": "code",
   "execution_count": 18,
   "metadata": {},
   "outputs": [],
   "source": [
    "def get_max_main_page(main_page):\n",
    "    table = main_page.find('table', attrs={'style':'margin: auto; border-spacing: 3px;'})\n",
    "    max_page = int(table.findAll('a', attrs={'class':'index'})[-2].text)\n",
    "    return max_page"
   ]
  },
  {
   "cell_type": "code",
   "execution_count": 21,
   "metadata": {},
   "outputs": [],
   "source": [
    "def get_persons_links(current_main_page, person_link=PERSON_LINK):\n",
    "    persons_links = []\n",
    "    page_ids = current_main_page.findAll('a', attrs={'class':'x'})\n",
    "    for page_id in page_ids:\n",
    "        page_id = re.findall(r'\\d+', page_id.get('onclick'))[0]\n",
    "        link = person_link.format(page_id)\n",
    "        persons_links.append(link)\n",
    "    return persons_links"
   ]
  },
  {
   "cell_type": "code",
   "execution_count": 22,
   "metadata": {},
   "outputs": [],
   "source": [
    "current_main_page = get_main_page(1)\n",
    "current_persons_links = get_persons_links(current_main_page)"
   ]
  },
  {
   "cell_type": "code",
   "execution_count": 23,
   "metadata": {
    "scrolled": false
   },
   "outputs": [
    {
     "data": {
      "text/plain": [
       "50"
      ]
     },
     "execution_count": 23,
     "metadata": {},
     "output_type": "execute_result"
    }
   ],
   "source": [
    "len(current_persons_links)"
   ]
  },
  {
   "cell_type": "code",
   "execution_count": 24,
   "metadata": {},
   "outputs": [
    {
     "data": {
      "text/plain": [
       "50"
      ]
     },
     "execution_count": 24,
     "metadata": {},
     "output_type": "execute_result"
    }
   ],
   "source": [
    "len(set(current_persons_links))"
   ]
  },
  {
   "cell_type": "code",
   "execution_count": 36,
   "metadata": {},
   "outputs": [
    {
     "data": {
      "text/plain": [
       "'http://k.intimcity.nl/persons.php?id=374085'"
      ]
     },
     "execution_count": 36,
     "metadata": {},
     "output_type": "execute_result"
    }
   ],
   "source": [
    "current_persons_links[0]"
   ]
  },
  {
   "cell_type": "code",
   "execution_count": 221,
   "metadata": {},
   "outputs": [],
   "source": [
    "current_person_page = get_soup('http://k.intimcity.nl/persons.php?id=371614')"
   ]
  },
  {
   "cell_type": "code",
   "execution_count": 28,
   "metadata": {},
   "outputs": [],
   "source": [
    "def get_text_description(current_person_page):\n",
    "    return {'text_description': current_person_page.find('td', attrs={'class':'ar13'}).text}"
   ]
  },
  {
   "cell_type": "code",
   "execution_count": 29,
   "metadata": {},
   "outputs": [],
   "source": [
    "def get_parameter_table(current_person_page):\n",
    "    parameter_table = current_person_page.find(\"table\", attrs={'style':'width: 100%; border-spacing: 1px;'})\n",
    "    parameter_table = pd.read_html(str(parameter_table))[0]\n",
    "    parameter_table = parameter_table.set_index(0)\n",
    "    parameter_table = parameter_table.to_dict()[1]\n",
    "    return parameter_table"
   ]
  },
  {
   "cell_type": "code",
   "execution_count": 152,
   "metadata": {
    "code_folding": [
     2,
     16,
     27,
     35
    ]
   },
   "outputs": [],
   "source": [
    "def get_prices_dict(current_person_page, flatten=True):\n",
    "    \n",
    "    def _flatten_prices_dict(prices_dict):\n",
    "        flattened_prices = {}\n",
    "        for k, v in prices_dict.items():\n",
    "            if isinstance(v, dict):\n",
    "                for nested_k, nested_v in v.items():\n",
    "                    if isinstance(nested_v, dict):\n",
    "                        for nested_2_k, nested_2_v in nested_v.items():\n",
    "                            flattened_prices[\"_\".join([k, nested_k, nested_2_k])] = nested_2_v\n",
    "                    else:\n",
    "                        flattened_prices[\"_\".join([k, nested_k])] = nested_v\n",
    "            else:\n",
    "                flattened_prices[k] = v\n",
    "        return flattened_prices\n",
    "    \n",
    "    def _clean_number(df, row_index, col_index):\n",
    "        try:\n",
    "            string = df.iloc[row_index, col_index]\n",
    "        except:\n",
    "            return None\n",
    "        try:\n",
    "            return float(\"\".join(re.findall(r'\\d+', string)))\n",
    "        except:\n",
    "            return string\n",
    "           \n",
    "    prices = current_person_page.find(\n",
    "        'table', \n",
    "        attrs={\n",
    "            'style':'width: 440px; margin: 10px auto; background-color: #CCC; text-align: center; border-spacing: 1px;'\n",
    "        }\n",
    "    )\n",
    "    prices = pd.read_html(str(prices))[0]\n",
    "        \n",
    "    prices_dict = {\n",
    "        \"апартаменты\":{\n",
    "            \"днём\": {\n",
    "                \"час\": _clean_number(prices, 2, 1),\n",
    "                \"2часа\": _clean_number(prices, 2, 2)\n",
    "            },\n",
    "            \"ночью\": {\n",
    "                \"час\": _clean_number(prices, 2, 3),\n",
    "                \"2часа\": _clean_number(prices, 2, 4)\n",
    "            }\n",
    "        },\n",
    "        \"выезд\":{\n",
    "            \"днём\": {\n",
    "                \"час\": _clean_number(prices, 3, 1),\n",
    "                \"2часа\": _clean_number(prices, 3, 2)\n",
    "            },\n",
    "            \"ночью\": {\n",
    "                \"час\": _clean_number(prices, 3, 3),\n",
    "                \"2часа\": _clean_number(prices, 3, 4)\n",
    "            }\n",
    "        },\n",
    "        \"контактов_в_час\": _clean_number(prices, 4, 1),\n",
    "        \"анал\": _clean_number(prices, 4, 4),\n",
    "        \"мбр\": _clean_number(prices, 5, 4),\n",
    "        \"comments\": _clean_number(prices, 6, 0)\n",
    "    }\n",
    "    \n",
    "    if flatten:\n",
    "        prices_dict = _flatten_prices_dict(prices_dict)\n",
    "        \n",
    "    return prices_dict"
   ]
  },
  {
   "cell_type": "code",
   "execution_count": 201,
   "metadata": {},
   "outputs": [],
   "source": [
    "def get_services_dict(current_person_page):\n",
    "\n",
    "    services = current_person_page.find(\"table\", attrs={'style':'width: 100%; border-spacing: 5px;'})\n",
    "\n",
    "    # boolean mask for cheked boxes\n",
    "    services_bool = services.findAll('input', attrs={'type':'checkbox'})[:-1]\n",
    "    services_bool = [1 if 'checked' in str(x) else 0 for x in services_bool]\n",
    "    \n",
    "    services_names = services.findAll('a')\n",
    "    services_names = [name.text for name in services_names]\n",
    "    \n",
    "    services_dict = dict(zip(services_names, services_bool))\n",
    "    return services_dict"
   ]
  },
  {
   "cell_type": "code",
   "execution_count": 216,
   "metadata": {},
   "outputs": [],
   "source": [
    "def get_photo_links(current_person_page):\n",
    "    photo_links = current_person_page.find(\"div\", attrs={'class':'highslide-gallery'})\n",
    "    photo_links = photo_links.findAll('a')\n",
    "    photo_links = [link.get(\"href\") for link in photo_links]\n",
    "    return photo_links"
   ]
  },
  {
   "cell_type": "code",
   "execution_count": 322,
   "metadata": {},
   "outputs": [],
   "source": [
    "def get_checks_reviews(current_person_page):\n",
    "    \n",
    "    comments = current_person_page.find('div', attrs={'class':'noprint'}) \n",
    "    \n",
    "    number_of_checks = comments.find('table', attrs={'style':'margin: auto;'})\n",
    "    number_of_checks = len(number_of_checks.findAll('div', attrs={'class':'rnd5'})) if number_of_checks else 0\n",
    "    # reviews from users\n",
    "    reviews = comments.find('table', attrs={'style':'width: 440px; margin: 10px auto 0 auto;'})    \n",
    "    reviews = reviews.findAll('div', attrs={'class':'rnd5'}) if reviews else []\n",
    "\n",
    "    clean_reviews = []\n",
    "    for review in reviews:\n",
    "        span_tag = review.find('span')\n",
    "        review_text = span_tag.next_sibling\n",
    "        try:\n",
    "            clean_text = review_text.text\n",
    "        except:\n",
    "            clean_text = review_text\n",
    "        clean_reviews.append(clean_text)\n",
    "        \n",
    "    number_of_reviews = len(clean_reviews)\n",
    "    \n",
    "    result = {\n",
    "        'number_of_checks':number_of_checks,\n",
    "        'number_of_reviews':number_of_reviews,\n",
    "        'reviews_text':clean_reviews\n",
    "    }\n",
    "    return result"
   ]
  },
  {
   "cell_type": "code",
   "execution_count": 323,
   "metadata": {},
   "outputs": [],
   "source": [
    "parameter_table = get_parameter_table(current_person_page)"
   ]
  },
  {
   "cell_type": "code",
   "execution_count": 324,
   "metadata": {},
   "outputs": [],
   "source": [
    "text_description = get_text_description(current_person_page)"
   ]
  },
  {
   "cell_type": "code",
   "execution_count": 325,
   "metadata": {},
   "outputs": [],
   "source": [
    "prices = get_prices_dict(current_person_page)"
   ]
  },
  {
   "cell_type": "code",
   "execution_count": 326,
   "metadata": {},
   "outputs": [],
   "source": [
    "services = get_services_dict(current_person_page)"
   ]
  },
  {
   "cell_type": "code",
   "execution_count": 327,
   "metadata": {},
   "outputs": [],
   "source": [
    "photo_links = get_photo_links(current_person_page)"
   ]
  },
  {
   "cell_type": "code",
   "execution_count": 328,
   "metadata": {},
   "outputs": [],
   "source": [
    "checks_reviews = get_checks_reviews(current_person_page)"
   ]
  },
  {
   "cell_type": "code",
   "execution_count": null,
   "metadata": {},
   "outputs": [],
   "source": []
  }
 ],
 "metadata": {
  "kernelspec": {
   "display_name": "Python 3",
   "language": "python",
   "name": "python3"
  },
  "language_info": {
   "codemirror_mode": {
    "name": "ipython",
    "version": 3
   },
   "file_extension": ".py",
   "mimetype": "text/x-python",
   "name": "python",
   "nbconvert_exporter": "python",
   "pygments_lexer": "ipython3",
   "version": "3.7.3"
  },
  "varInspector": {
   "cols": {
    "lenName": 16,
    "lenType": 16,
    "lenVar": 40
   },
   "kernels_config": {
    "python": {
     "delete_cmd_postfix": "",
     "delete_cmd_prefix": "del ",
     "library": "var_list.py",
     "varRefreshCmd": "print(var_dic_list())"
    },
    "r": {
     "delete_cmd_postfix": ") ",
     "delete_cmd_prefix": "rm(",
     "library": "var_list.r",
     "varRefreshCmd": "cat(var_dic_list()) "
    }
   },
   "types_to_exclude": [
    "module",
    "function",
    "builtin_function_or_method",
    "instance",
    "_Feature"
   ],
   "window_display": false
  }
 },
 "nbformat": 4,
 "nbformat_minor": 2
}
