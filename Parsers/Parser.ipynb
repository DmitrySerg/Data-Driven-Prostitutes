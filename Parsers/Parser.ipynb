{
 "cells": [
  {
   "cell_type": "code",
   "execution_count": 7,
   "metadata": {},
   "outputs": [],
   "source": [
    "import requests      \n",
    "import numpy as np   \n",
    "import pandas as pd  \n",
    "import time          \n",
    "\n",
    "from bs4 import BeautifulSoup\n",
    "import re"
   ]
  },
  {
   "cell_type": "code",
   "execution_count": 8,
   "metadata": {},
   "outputs": [
    {
     "data": {
      "text/plain": [
       "'Mozilla/5.0 (Windows NT 6.2; Win64; x64) AppleWebKit/537.36 (KHTML, like Gecko) Chrome/32.0.1667.0 Safari/537.36'"
      ]
     },
     "execution_count": 8,
     "metadata": {},
     "output_type": "execute_result"
    }
   ],
   "source": [
    "from fake_useragent import UserAgent\n",
    "UserAgent().chrome"
   ]
  },
  {
   "cell_type": "code",
   "execution_count": 9,
   "metadata": {},
   "outputs": [],
   "source": [
    "# !/usr/local/anaconda3/bin/pip install fake_useragent"
   ]
  },
  {
   "cell_type": "code",
   "execution_count": 10,
   "metadata": {},
   "outputs": [],
   "source": [
    "import socks\n",
    "import socket\n",
    "socks.set_default_proxy(socks.SOCKS5, \"localhost\", 9150)\n",
    "socket.socket = socks.socksocket"
   ]
  },
  {
   "cell_type": "code",
   "execution_count": 11,
   "metadata": {},
   "outputs": [
    {
     "name": "stdout",
     "output_type": "stream",
     "text": [
      "Current IP Address: 185.220.101.70\n"
     ]
    }
   ],
   "source": [
    "def checkIP():\n",
    "    ip = requests.get('http://checkip.dyndns.org').content\n",
    "    soup = BeautifulSoup(ip, 'html.parser')\n",
    "    print(soup.find('body').text)\n",
    "\n",
    "checkIP()"
   ]
  },
  {
   "cell_type": "code",
   "execution_count": 14,
   "metadata": {},
   "outputs": [],
   "source": [
    "MAIN_LINK = \"http://k.intimcity.nl/persons.php?index={}\""
   ]
  },
  {
   "cell_type": "code",
   "execution_count": 15,
   "metadata": {},
   "outputs": [],
   "source": [
    "page_link = \"http://k.intimcity.nl/persons.php?id=352916\"\n",
    "\n",
    "PERSON_LINK = \"http://k.intimcity.nl/persons.php?id={}\""
   ]
  },
  {
   "cell_type": "code",
   "execution_count": 9,
   "metadata": {},
   "outputs": [
    {
     "data": {
      "text/plain": [
       "'http://k.intimcity.nl/persons.php?index=1'"
      ]
     },
     "execution_count": 9,
     "metadata": {},
     "output_type": "execute_result"
    }
   ],
   "source": [
    "main_link.format(1)"
   ]
  },
  {
   "cell_type": "code",
   "execution_count": 16,
   "metadata": {},
   "outputs": [],
   "source": [
    "def get_soup(link):\n",
    "    headers = {'User-Agent': UserAgent().chrome}\n",
    "    response = requests.get(link, headers=headers)\n",
    "    soup = BeautifulSoup(response.content, 'html.parser')\n",
    "    return soup"
   ]
  },
  {
   "cell_type": "code",
   "execution_count": 17,
   "metadata": {},
   "outputs": [],
   "source": [
    "def get_main_page(page_number, main_link=MAIN_LINK):\n",
    "    main_page = get_soup(main_link.format(page_number))\n",
    "    return main_page"
   ]
  },
  {
   "cell_type": "code",
   "execution_count": 18,
   "metadata": {},
   "outputs": [],
   "source": [
    "def get_max_main_page(main_page):\n",
    "    table = main_page.find('table', attrs={'style':'margin: auto; border-spacing: 3px;'})\n",
    "    max_page = int(table.findAll('a', attrs={'class':'index'})[-2].text)\n",
    "    return max_page"
   ]
  },
  {
   "cell_type": "code",
   "execution_count": 21,
   "metadata": {},
   "outputs": [],
   "source": [
    "def get_persons_links(current_main_page, person_link=PERSON_LINK):\n",
    "    persons_links = []\n",
    "    page_ids = current_main_page.findAll('a', attrs={'class':'x'})\n",
    "    for page_id in page_ids:\n",
    "        page_id = re.findall(r'\\d+', page_id.get('onclick'))[0]\n",
    "        link = person_link.format(page_id)\n",
    "        persons_links.append(link)\n",
    "    return persons_links"
   ]
  },
  {
   "cell_type": "code",
   "execution_count": 22,
   "metadata": {},
   "outputs": [],
   "source": [
    "current_main_page = get_main_page(1)\n",
    "current_persons_links = get_persons_links(current_main_page)"
   ]
  },
  {
   "cell_type": "code",
   "execution_count": 23,
   "metadata": {
    "scrolled": false
   },
   "outputs": [
    {
     "data": {
      "text/plain": [
       "50"
      ]
     },
     "execution_count": 23,
     "metadata": {},
     "output_type": "execute_result"
    }
   ],
   "source": [
    "len(current_persons_links)"
   ]
  },
  {
   "cell_type": "code",
   "execution_count": 24,
   "metadata": {},
   "outputs": [
    {
     "data": {
      "text/plain": [
       "50"
      ]
     },
     "execution_count": 24,
     "metadata": {},
     "output_type": "execute_result"
    }
   ],
   "source": [
    "len(set(current_persons_links))"
   ]
  },
  {
   "cell_type": "code",
   "execution_count": 36,
   "metadata": {},
   "outputs": [
    {
     "data": {
      "text/plain": [
       "'http://k.intimcity.nl/persons.php?id=374085'"
      ]
     },
     "execution_count": 36,
     "metadata": {},
     "output_type": "execute_result"
    }
   ],
   "source": [
    "current_persons_links[0]"
   ]
  },
  {
   "cell_type": "code",
   "execution_count": 329,
   "metadata": {},
   "outputs": [],
   "source": [
    "current_person_page = get_soup(current_persons_links[4])"
   ]
  },
  {
   "cell_type": "code",
   "execution_count": 355,
   "metadata": {
    "code_folding": []
   },
   "outputs": [],
   "source": [
    "def get_name(current_person_page):\n",
    "    return {'name':current_person_page.find('h2').text}"
   ]
  },
  {
   "cell_type": "code",
   "execution_count": 330,
   "metadata": {
    "code_folding": [
     0
    ]
   },
   "outputs": [],
   "source": [
    "def get_text_description(current_person_page):\n",
    "    \"\"\"Description written by seller\"\"\"\n",
    "    return {'text_description': current_person_page.find('td', attrs={'class':'ar13'}).text}"
   ]
  },
  {
   "cell_type": "code",
   "execution_count": 331,
   "metadata": {
    "code_folding": [
     0
    ]
   },
   "outputs": [],
   "source": [
    "def get_parameter_table(current_person_page):\n",
    "    \"\"\"All parameters (weight, height, address, etc.)\"\"\"\n",
    "    parameter_table = current_person_page.find(\"table\", attrs={'style':'width: 100%; border-spacing: 1px;'})\n",
    "    parameter_table = pd.read_html(str(parameter_table))[0]\n",
    "    parameter_table = parameter_table.set_index(0)\n",
    "    parameter_table = parameter_table.to_dict()[1]\n",
    "    return parameter_table"
   ]
  },
  {
   "cell_type": "code",
   "execution_count": 152,
   "metadata": {
    "code_folding": [
     0,
     2,
     16,
     26,
     34
    ]
   },
   "outputs": [],
   "source": [
    "def get_prices_dict(current_person_page, flatten=True):\n",
    "    \"\"\"All prices (per hour, day/night, etc.)\"\"\"\n",
    "    def _flatten_prices_dict(prices_dict):\n",
    "        flattened_prices = {}\n",
    "        for k, v in prices_dict.items():\n",
    "            if isinstance(v, dict):\n",
    "                for nested_k, nested_v in v.items():\n",
    "                    if isinstance(nested_v, dict):\n",
    "                        for nested_2_k, nested_2_v in nested_v.items():\n",
    "                            flattened_prices[\"_\".join([k, nested_k, nested_2_k])] = nested_2_v\n",
    "                    else:\n",
    "                        flattened_prices[\"_\".join([k, nested_k])] = nested_v\n",
    "            else:\n",
    "                flattened_prices[k] = v\n",
    "        return flattened_prices\n",
    "    \n",
    "    def _clean_number(df, row_index, col_index):\n",
    "        try:\n",
    "            string = df.iloc[row_index, col_index]\n",
    "        except:\n",
    "            return None\n",
    "        try:\n",
    "            return float(\"\".join(re.findall(r'\\d+', string)))\n",
    "        except:\n",
    "            return string\n",
    "           \n",
    "    prices = current_person_page.find(\n",
    "        'table', \n",
    "        attrs={\n",
    "            'style':'width: 440px; margin: 10px auto; background-color: #CCC; text-align: center; border-spacing: 1px;'\n",
    "        }\n",
    "    )\n",
    "    prices = pd.read_html(str(prices))[0]\n",
    "        \n",
    "    prices_dict = {\n",
    "        \"апартаменты\":{\n",
    "            \"днём\": {\n",
    "                \"час\": _clean_number(prices, 2, 1),\n",
    "                \"2часа\": _clean_number(prices, 2, 2)\n",
    "            },\n",
    "            \"ночью\": {\n",
    "                \"час\": _clean_number(prices, 2, 3),\n",
    "                \"2часа\": _clean_number(prices, 2, 4)\n",
    "            }\n",
    "        },\n",
    "        \"выезд\":{\n",
    "            \"днём\": {\n",
    "                \"час\": _clean_number(prices, 3, 1),\n",
    "                \"2часа\": _clean_number(prices, 3, 2)\n",
    "            },\n",
    "            \"ночью\": {\n",
    "                \"час\": _clean_number(prices, 3, 3),\n",
    "                \"2часа\": _clean_number(prices, 3, 4)\n",
    "            }\n",
    "        },\n",
    "        \"контактов_в_час\": _clean_number(prices, 4, 1),\n",
    "        \"анал\": _clean_number(prices, 4, 4),\n",
    "        \"мбр\": _clean_number(prices, 5, 4),\n",
    "        \"comments\": _clean_number(prices, 6, 0)\n",
    "    }\n",
    "    \n",
    "    if flatten:\n",
    "        prices_dict = _flatten_prices_dict(prices_dict)\n",
    "        \n",
    "    return prices_dict"
   ]
  },
  {
   "cell_type": "code",
   "execution_count": 397,
   "metadata": {
    "code_folding": []
   },
   "outputs": [],
   "source": [
    "def get_services_dict(current_person_page):\n",
    "    \"\"\"Full list with services\"\"\"\n",
    "    \n",
    "    services = current_person_page.find(\"table\", attrs={'style':'width: 100%; border-spacing: 5px;'})\n",
    "    # boolean mask for cheked boxes\n",
    "    services_bool = services.findAll('input', attrs={'type':'checkbox'})[:-1]\n",
    "    services_bool = [True if 'checked' in str(x) else False for x in services_bool]\n",
    "\n",
    "    services_names = services.findAll('a')\n",
    "    services_names = np.array([name.text for name in services_names])\n",
    "\n",
    "    services_names = list(services_names[services_bool])\n",
    "    return {'services':services_names, 'number_of_services':len(services_names)}"
   ]
  },
  {
   "cell_type": "code",
   "execution_count": 398,
   "metadata": {
    "code_folding": []
   },
   "outputs": [],
   "source": [
    "def get_photo_links(current_person_page):\n",
    "    \"\"\"Links to photos\"\"\"\n",
    "    photo_links = current_person_page.find(\"div\", attrs={'class':'highslide-gallery'})\n",
    "    photo_links = photo_links.findAll('a')\n",
    "    photo_links = [link.get(\"href\") for link in photo_links]\n",
    "    return {'photo_links':photo_links}"
   ]
  },
  {
   "cell_type": "code",
   "execution_count": 399,
   "metadata": {
    "code_folding": [
     0
    ]
   },
   "outputs": [],
   "source": [
    "def get_checks_reviews(current_person_page):\n",
    "    \"\"\"Comments and reviews\"\"\"\n",
    "    comments = current_person_page.find('div', attrs={'class':'noprint'}) \n",
    "    \n",
    "    number_of_checks = comments.find('table', attrs={'style':'margin: auto;'})\n",
    "    number_of_checks = len(number_of_checks.findAll('div', attrs={'class':'rnd5'})) if number_of_checks else 0\n",
    "    # reviews from users\n",
    "    reviews = comments.find('table', attrs={'style':'width: 440px; margin: 10px auto 0 auto;'})    \n",
    "    reviews = reviews.findAll('div', attrs={'class':'rnd5'}) if reviews else []\n",
    "\n",
    "    clean_reviews = []\n",
    "    for review in reviews:\n",
    "        span_tag = review.find('span')\n",
    "        review_text = span_tag.next_sibling\n",
    "        try:\n",
    "            clean_text = review_text.text\n",
    "        except:\n",
    "            clean_text = review_text\n",
    "        clean_reviews.append(clean_text)\n",
    "        \n",
    "    number_of_reviews = len(clean_reviews)\n",
    "    \n",
    "    result = {\n",
    "        'number_of_checks':number_of_checks,\n",
    "        'number_of_reviews':number_of_reviews,\n",
    "        'reviews_text':clean_reviews\n",
    "    }\n",
    "    return result"
   ]
  },
  {
   "cell_type": "code",
   "execution_count": 400,
   "metadata": {},
   "outputs": [],
   "source": [
    "full_person_data = {}\n",
    "\n",
    "name = get_name(current_person_page)\n",
    "parameter_table = get_parameter_table(current_person_page)\n",
    "text_description = get_text_description(current_person_page)\n",
    "prices = get_prices_dict(current_person_page)\n",
    "services = get_services_dict(current_person_page)\n",
    "photo_links = get_photo_links(current_person_page)\n",
    "checks_reviews = get_checks_reviews(current_person_page)"
   ]
  },
  {
   "cell_type": "code",
   "execution_count": 401,
   "metadata": {},
   "outputs": [],
   "source": [
    "full_person_data = {}\n",
    "full_person_data.update(get_name(current_person_page))\n",
    "full_person_data.update(get_parameter_table(current_person_page))\n",
    "full_person_data.update(get_text_description(current_person_page))\n",
    "full_person_data.update(get_prices_dict(current_person_page))\n",
    "full_person_data.update(get_services_dict(current_person_page))\n",
    "full_person_data.update(get_photo_links(current_person_page))\n",
    "full_person_data.update(get_checks_reviews(current_person_page))"
   ]
  },
  {
   "cell_type": "code",
   "execution_count": 402,
   "metadata": {},
   "outputs": [
    {
     "data": {
      "text/html": [
       "<div>\n",
       "<style scoped>\n",
       "    .dataframe tbody tr th:only-of-type {\n",
       "        vertical-align: middle;\n",
       "    }\n",
       "\n",
       "    .dataframe tbody tr th {\n",
       "        vertical-align: top;\n",
       "    }\n",
       "\n",
       "    .dataframe thead th {\n",
       "        text-align: right;\n",
       "    }\n",
       "</style>\n",
       "<table border=\"1\" class=\"dataframe\">\n",
       "  <thead>\n",
       "    <tr style=\"text-align: right;\">\n",
       "      <th></th>\n",
       "      <th>0</th>\n",
       "      <th>1</th>\n",
       "    </tr>\n",
       "  </thead>\n",
       "  <tbody>\n",
       "    <tr>\n",
       "      <th>0</th>\n",
       "      <td>name</td>\n",
       "      <td>Злата</td>\n",
       "    </tr>\n",
       "    <tr>\n",
       "      <th>1</th>\n",
       "      <td>Телефон</td>\n",
       "      <td>+7 (965) 432-46-51 (инфо)</td>\n",
       "    </tr>\n",
       "    <tr>\n",
       "      <th>2</th>\n",
       "      <td>Город</td>\n",
       "      <td>Москва</td>\n",
       "    </tr>\n",
       "    <tr>\n",
       "      <th>3</th>\n",
       "      <td>Возраст</td>\n",
       "      <td>36</td>\n",
       "    </tr>\n",
       "    <tr>\n",
       "      <th>4</th>\n",
       "      <td>Грудь</td>\n",
       "      <td>3</td>\n",
       "    </tr>\n",
       "    <tr>\n",
       "      <th>5</th>\n",
       "      <td>Вес</td>\n",
       "      <td>77</td>\n",
       "    </tr>\n",
       "    <tr>\n",
       "      <th>6</th>\n",
       "      <td>Рост</td>\n",
       "      <td>165</td>\n",
       "    </tr>\n",
       "    <tr>\n",
       "      <th>7</th>\n",
       "      <td>Размер одежды</td>\n",
       "      <td>50</td>\n",
       "    </tr>\n",
       "    <tr>\n",
       "      <th>8</th>\n",
       "      <td>Размер обуви</td>\n",
       "      <td>37</td>\n",
       "    </tr>\n",
       "    <tr>\n",
       "      <th>9</th>\n",
       "      <td>Интимная стрижка</td>\n",
       "      <td>Полная депиляция</td>\n",
       "    </tr>\n",
       "    <tr>\n",
       "      <th>10</th>\n",
       "      <td>Район</td>\n",
       "      <td>ЗАО, Кунцево</td>\n",
       "    </tr>\n",
       "    <tr>\n",
       "      <th>11</th>\n",
       "      <td>Метро</td>\n",
       "      <td>Молодежная, Славянский бульвар, Кунцевская</td>\n",
       "    </tr>\n",
       "    <tr>\n",
       "      <th>12</th>\n",
       "      <td>Не моложе</td>\n",
       "      <td>25 лет (ограничение по возрасту)</td>\n",
       "    </tr>\n",
       "    <tr>\n",
       "      <th>13</th>\n",
       "      <td>Дата обновления</td>\n",
       "      <td>25.09.2019</td>\n",
       "    </tr>\n",
       "    <tr>\n",
       "      <th>14</th>\n",
       "      <td>text_description</td>\n",
       "      <td>Страстная и нежная, очень люблю секс во всех е...</td>\n",
       "    </tr>\n",
       "    <tr>\n",
       "      <th>15</th>\n",
       "      <td>апартаменты_днём_час</td>\n",
       "      <td>1500</td>\n",
       "    </tr>\n",
       "    <tr>\n",
       "      <th>16</th>\n",
       "      <td>апартаменты_днём_2часа</td>\n",
       "      <td>4000</td>\n",
       "    </tr>\n",
       "    <tr>\n",
       "      <th>17</th>\n",
       "      <td>апартаменты_ночью_час</td>\n",
       "      <td>1500</td>\n",
       "    </tr>\n",
       "    <tr>\n",
       "      <th>18</th>\n",
       "      <td>апартаменты_ночью_2часа</td>\n",
       "      <td>10000</td>\n",
       "    </tr>\n",
       "    <tr>\n",
       "      <th>19</th>\n",
       "      <td>выезд_днём_час</td>\n",
       "      <td>-</td>\n",
       "    </tr>\n",
       "    <tr>\n",
       "      <th>20</th>\n",
       "      <td>выезд_днём_2часа</td>\n",
       "      <td>6000</td>\n",
       "    </tr>\n",
       "    <tr>\n",
       "      <th>21</th>\n",
       "      <td>выезд_ночью_час</td>\n",
       "      <td>6000</td>\n",
       "    </tr>\n",
       "    <tr>\n",
       "      <th>22</th>\n",
       "      <td>выезд_ночью_2часа</td>\n",
       "      <td>12000</td>\n",
       "    </tr>\n",
       "    <tr>\n",
       "      <th>23</th>\n",
       "      <td>контактов_в_час</td>\n",
       "      <td>2</td>\n",
       "    </tr>\n",
       "    <tr>\n",
       "      <th>24</th>\n",
       "      <td>анал</td>\n",
       "      <td>-</td>\n",
       "    </tr>\n",
       "    <tr>\n",
       "      <th>25</th>\n",
       "      <td>мбр</td>\n",
       "      <td>Доп.</td>\n",
       "    </tr>\n",
       "    <tr>\n",
       "      <th>26</th>\n",
       "      <td>comments</td>\n",
       "      <td>None</td>\n",
       "    </tr>\n",
       "    <tr>\n",
       "      <th>27</th>\n",
       "      <td>services</td>\n",
       "      <td>[Секс классический, Услуги семейной паре, Мине...</td>\n",
       "    </tr>\n",
       "    <tr>\n",
       "      <th>28</th>\n",
       "      <td>number_of_services</td>\n",
       "      <td>14</td>\n",
       "    </tr>\n",
       "    <tr>\n",
       "      <th>29</th>\n",
       "      <td>photo_links</td>\n",
       "      <td>[https://intimka.nl/Persons_big/369877/6183186...</td>\n",
       "    </tr>\n",
       "    <tr>\n",
       "      <th>30</th>\n",
       "      <td>number_of_checks</td>\n",
       "      <td>0</td>\n",
       "    </tr>\n",
       "    <tr>\n",
       "      <th>31</th>\n",
       "      <td>number_of_reviews</td>\n",
       "      <td>0</td>\n",
       "    </tr>\n",
       "    <tr>\n",
       "      <th>32</th>\n",
       "      <td>reviews_text</td>\n",
       "      <td>[]</td>\n",
       "    </tr>\n",
       "  </tbody>\n",
       "</table>\n",
       "</div>"
      ],
      "text/plain": [
       "                          0                                                  1\n",
       "0                      name                                              Злата\n",
       "1                   Телефон                          +7 (965) 432-46-51 (инфо)\n",
       "2                     Город                                             Москва\n",
       "3                   Возраст                                                 36\n",
       "4                     Грудь                                                  3\n",
       "5                       Вес                                                 77\n",
       "6                      Рост                                                165\n",
       "7             Размер одежды                                                 50\n",
       "8              Размер обуви                                                 37\n",
       "9          Интимная стрижка                                   Полная депиляция\n",
       "10                    Район                                       ЗАО, Кунцево\n",
       "11                    Метро         Молодежная, Славянский бульвар, Кунцевская\n",
       "12                Не моложе                   25 лет (ограничение по возрасту)\n",
       "13          Дата обновления                                         25.09.2019\n",
       "14         text_description  Страстная и нежная, очень люблю секс во всех е...\n",
       "15     апартаменты_днём_час                                               1500\n",
       "16   апартаменты_днём_2часа                                               4000\n",
       "17    апартаменты_ночью_час                                               1500\n",
       "18  апартаменты_ночью_2часа                                              10000\n",
       "19           выезд_днём_час                                                  -\n",
       "20         выезд_днём_2часа                                               6000\n",
       "21          выезд_ночью_час                                               6000\n",
       "22        выезд_ночью_2часа                                              12000\n",
       "23          контактов_в_час                                                  2\n",
       "24                     анал                                                  -\n",
       "25                      мбр                                               Доп.\n",
       "26                 comments                                               None\n",
       "27                 services  [Секс классический, Услуги семейной паре, Мине...\n",
       "28       number_of_services                                                 14\n",
       "29              photo_links  [https://intimka.nl/Persons_big/369877/6183186...\n",
       "30         number_of_checks                                                  0\n",
       "31        number_of_reviews                                                  0\n",
       "32             reviews_text                                                 []"
      ]
     },
     "execution_count": 402,
     "metadata": {},
     "output_type": "execute_result"
    }
   ],
   "source": [
    "pd.DataFrame(full_person_data.items())"
   ]
  },
  {
   "cell_type": "code",
   "execution_count": null,
   "metadata": {},
   "outputs": [],
   "source": []
  }
 ],
 "metadata": {
  "kernelspec": {
   "display_name": "Python 3",
   "language": "python",
   "name": "python3"
  },
  "language_info": {
   "codemirror_mode": {
    "name": "ipython",
    "version": 3
   },
   "file_extension": ".py",
   "mimetype": "text/x-python",
   "name": "python",
   "nbconvert_exporter": "python",
   "pygments_lexer": "ipython3",
   "version": "3.7.3"
  },
  "varInspector": {
   "cols": {
    "lenName": 16,
    "lenType": 16,
    "lenVar": 40
   },
   "kernels_config": {
    "python": {
     "delete_cmd_postfix": "",
     "delete_cmd_prefix": "del ",
     "library": "var_list.py",
     "varRefreshCmd": "print(var_dic_list())"
    },
    "r": {
     "delete_cmd_postfix": ") ",
     "delete_cmd_prefix": "rm(",
     "library": "var_list.r",
     "varRefreshCmd": "cat(var_dic_list()) "
    }
   },
   "types_to_exclude": [
    "module",
    "function",
    "builtin_function_or_method",
    "instance",
    "_Feature"
   ],
   "window_display": false
  }
 },
 "nbformat": 4,
 "nbformat_minor": 2
}
